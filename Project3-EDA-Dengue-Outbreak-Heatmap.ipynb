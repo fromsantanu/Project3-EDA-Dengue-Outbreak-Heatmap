{
 "cells": [
  {
   "cell_type": "markdown",
   "id": "1dfe3c65",
   "metadata": {},
   "source": [
    "# Generating Heatmap to Show Dengue Sufferers On Map of India "
   ]
  },
  {
   "cell_type": "markdown",
   "id": "52364281",
   "metadata": {},
   "source": [
    "### Generate the data"
   ]
  },
  {
   "cell_type": "code",
   "execution_count": 1,
   "id": "49c9b35a",
   "metadata": {},
   "outputs": [
    {
     "data": {
      "text/plain": [
       "'dengue_data.csv'"
      ]
     },
     "execution_count": 1,
     "metadata": {},
     "output_type": "execute_result"
    }
   ],
   "source": [
    "import pandas as pd\n",
    "import numpy as np\n",
    "from datetime import datetime, timedelta\n",
    "\n",
    "# Create a function to generate a dataset\n",
    "def generate_dengue_data(num_entries, start_date):\n",
    "    # Generate random data\n",
    "    dates = [start_date + timedelta(days=i) for i in range(num_entries)]\n",
    "    regions = ['North', 'South', 'East', 'West', 'Central']\n",
    "    cases = np.random.randint(10, 100, size=num_entries)\n",
    "    deaths = np.random.randint(0, 10, size=num_entries)\n",
    "    region = [np.random.choice(regions) for _ in range(num_entries)]\n",
    "    \n",
    "    # Create DataFrame\n",
    "    data = {\n",
    "        'Date': dates,\n",
    "        'Region': region,\n",
    "        'Cases': cases,\n",
    "        'Deaths': deaths\n",
    "    }\n",
    "    df = pd.DataFrame(data)\n",
    "    return df\n",
    "\n",
    "# Generate a dataset with 100 entries starting from January 1, 2024\n",
    "num_entries = 100\n",
    "start_date = datetime(2024, 1, 1)\n",
    "dengue_data = generate_dengue_data(num_entries, start_date)\n",
    "\n",
    "# Save to CSV\n",
    "csv_file_path = 'dengue_data.csv'\n",
    "dengue_data.to_csv(csv_file_path, index=False)\n",
    "\n",
    "\n",
    "\n",
    "csv_file_path\n"
   ]
  },
  {
   "cell_type": "markdown",
   "id": "4755385b",
   "metadata": {},
   "source": [
    "### Generate the heatmap"
   ]
  },
  {
   "cell_type": "code",
   "execution_count": 3,
   "id": "e4ecc00a",
   "metadata": {},
   "outputs": [
    {
     "data": {
      "text/html": [
       "\n",
       "        <iframe\n",
       "            width=\"600\"\n",
       "            height=\"600\"\n",
       "            src=\"dengue_heatmap_india.html\"\n",
       "            frameborder=\"0\"\n",
       "            allowfullscreen\n",
       "            \n",
       "        ></iframe>\n",
       "        "
      ],
      "text/plain": [
       "<IPython.lib.display.IFrame at 0x1f334e0a8c0>"
      ]
     },
     "metadata": {},
     "output_type": "display_data"
    }
   ],
   "source": [
    "import folium\n",
    "import pandas as pd\n",
    "import geopandas as gpd\n",
    "from folium.plugins import HeatMap\n",
    "from IPython.display import display, IFrame\n",
    "\n",
    "# Load the dengue data\n",
    "df = pd.read_csv('dengue_data.csv')\n",
    "\n",
    "# Load India's states geojson data\n",
    "# Assuming 'india_states.geojson' is available in the same directory\n",
    "india_geojson = 'india_state_geo.json'  # Replace with the actual path to the GeoJSON file\n",
    "india_map = gpd.read_file(india_geojson)\n",
    "\n",
    "# Simplify the dataset for the heatmap\n",
    "# Aggregate data to sum cases and deaths per region\n",
    "heatmap_data = df.groupby('Region').agg({'Cases': 'sum', 'Deaths': 'sum'}).reset_index()\n",
    "\n",
    "# Add latitude and longitude for the regions\n",
    "# This example uses hypothetical coordinates; you need to replace these with actual ones\n",
    "region_coords = {\n",
    "    'North': [28.6139, 77.2090],  # Delhi\n",
    "    'South': [12.9716, 77.5946],  # Bangalore\n",
    "    'East': [22.5726, 88.3639],   # Kolkata\n",
    "    'West': [19.0760, 72.8777],   # Mumbai\n",
    "    'Central': [23.2599, 77.4126] # Bhopal\n",
    "}\n",
    "\n",
    "# Merge coordinates with the heatmap data\n",
    "heatmap_data['Latitude'] = heatmap_data['Region'].apply(lambda x: region_coords[x][0])\n",
    "heatmap_data['Longitude'] = heatmap_data['Region'].apply(lambda x: region_coords[x][1])\n",
    "\n",
    "# Initialize a map centered around India\n",
    "m = folium.Map(location=[20.5937, 78.9629], zoom_start=5)\n",
    "\n",
    "# Add heatmap\n",
    "heat_data = [[row['Latitude'], row['Longitude'], row['Cases']] for index, row in heatmap_data.iterrows()]\n",
    "HeatMap(heat_data, radius=15, blur=10, max_zoom=1).add_to(m)\n",
    "\n",
    "# Save the map as an HTML file\n",
    "map_file = 'dengue_heatmap_india.html'\n",
    "m.save(map_file)\n",
    "\n",
    "# Display the map in the notebook\n",
    "display(IFrame(map_file, width=600, height=600))\n"
   ]
  },
  {
   "cell_type": "code",
   "execution_count": null,
   "id": "a8e6ea05",
   "metadata": {},
   "outputs": [],
   "source": []
  }
 ],
 "metadata": {
  "kernelspec": {
   "display_name": "Python 3 (ipykernel)",
   "language": "python",
   "name": "python3"
  },
  "language_info": {
   "codemirror_mode": {
    "name": "ipython",
    "version": 3
   },
   "file_extension": ".py",
   "mimetype": "text/x-python",
   "name": "python",
   "nbconvert_exporter": "python",
   "pygments_lexer": "ipython3",
   "version": "3.10.14"
  }
 },
 "nbformat": 4,
 "nbformat_minor": 5
}
